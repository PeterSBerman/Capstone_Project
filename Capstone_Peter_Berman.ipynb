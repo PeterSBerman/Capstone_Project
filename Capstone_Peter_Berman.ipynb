{
 "cells": [
  {
   "cell_type": "code",
   "execution_count": 61,
   "metadata": {},
   "outputs": [],
   "source": [
    "#Title: Rats! An exploration of rodent activity in NYC (2015-)\n",
    "#Aim: To review rodent instepctin data collected by the NYC Department of Health and Mental Hygiene (DOHMH) to identify hot spots and trends \n",
    "#Problem statement: Rats are a problem for residents, property owners, businesses and even entire neighborhoods. Damage caused by their gnawing and burrowing can contaminate food, spread disease and reduce ones quality of life.\n",
    "#Why rats? As a former pest control technician servicing the 5 boroughs of NYC working for my father's \"mom and pop\" exterminating company (budgetexterminating.net), I wanted to bridge the gap between my past and current interests / professions. (Data, health, pest control) \n",
    "#Data source: NYC Department of Health and Mental Hygiene (DOHMH), Division of Environmental Health Pest Control Database\n",
    "#Data location: https://data.cityofnewyork.us/Health/Rodent-Inspection/p937-wjvj\n",
    "#Data description : 2.39mil rows, 20 columns"
   ]
  },
  {
   "cell_type": "code",
   "execution_count": 62,
   "metadata": {},
   "outputs": [],
   "source": [
    "#import libraries\n",
    "import pandas as pd\n",
    "import numpy as np "
   ]
  },
  {
   "cell_type": "code",
   "execution_count": 63,
   "metadata": {},
   "outputs": [],
   "source": [
    "#define dataframe(df) as data\n",
    "df = pd.read_csv(r'C:\\Users\\PBerman\\C-DRIVE (Documents)\\Rats\\Rodent_Inspection.csv')"
   ]
  },
  {
   "cell_type": "code",
   "execution_count": 64,
   "metadata": {},
   "outputs": [
    {
     "data": {
      "text/html": [
       "<div>\n",
       "<style scoped>\n",
       "    .dataframe tbody tr th:only-of-type {\n",
       "        vertical-align: middle;\n",
       "    }\n",
       "\n",
       "    .dataframe tbody tr th {\n",
       "        vertical-align: top;\n",
       "    }\n",
       "\n",
       "    .dataframe thead th {\n",
       "        text-align: right;\n",
       "    }\n",
       "</style>\n",
       "<table border=\"1\" class=\"dataframe\">\n",
       "  <thead>\n",
       "    <tr style=\"text-align: right;\">\n",
       "      <th></th>\n",
       "      <th>INSPECTION_TYPE</th>\n",
       "      <th>JOB_TICKET_OR_WORK_ORDER_ID</th>\n",
       "      <th>JOB_ID</th>\n",
       "      <th>JOB_PROGRESS</th>\n",
       "      <th>BBL</th>\n",
       "      <th>BORO_CODE</th>\n",
       "      <th>BLOCK</th>\n",
       "      <th>LOT</th>\n",
       "      <th>HOUSE_NUMBER</th>\n",
       "      <th>STREET_NAME</th>\n",
       "      <th>ZIP_CODE</th>\n",
       "      <th>X_COORD</th>\n",
       "      <th>Y_COORD</th>\n",
       "      <th>LATITUDE</th>\n",
       "      <th>LONGITUDE</th>\n",
       "      <th>BOROUGH</th>\n",
       "      <th>INSPECTION_DATE</th>\n",
       "      <th>RESULT</th>\n",
       "      <th>APPROVED_DATE</th>\n",
       "      <th>LOCATION</th>\n",
       "    </tr>\n",
       "  </thead>\n",
       "  <tbody>\n",
       "    <tr>\n",
       "      <th>0</th>\n",
       "      <td>Initial</td>\n",
       "      <td>13407377</td>\n",
       "      <td>PC7882384</td>\n",
       "      <td>1</td>\n",
       "      <td>3.019260e+09</td>\n",
       "      <td>3</td>\n",
       "      <td>1926</td>\n",
       "      <td>10</td>\n",
       "      <td>NaN</td>\n",
       "      <td>NaN</td>\n",
       "      <td>11205.0</td>\n",
       "      <td>NaN</td>\n",
       "      <td>NaN</td>\n",
       "      <td>NaN</td>\n",
       "      <td>NaN</td>\n",
       "      <td>Brooklyn</td>\n",
       "      <td>06/09/2022 01:54:54 PM</td>\n",
       "      <td>Passed</td>\n",
       "      <td>06/13/2022 11:08:40 AM</td>\n",
       "      <td>NaN</td>\n",
       "    </tr>\n",
       "    <tr>\n",
       "      <th>1</th>\n",
       "      <td>Initial</td>\n",
       "      <td>13579860</td>\n",
       "      <td>PC8047096</td>\n",
       "      <td>1</td>\n",
       "      <td>1.004530e+09</td>\n",
       "      <td>1</td>\n",
       "      <td>453</td>\n",
       "      <td>34</td>\n",
       "      <td>NaN</td>\n",
       "      <td>NaN</td>\n",
       "      <td>10003.0</td>\n",
       "      <td>NaN</td>\n",
       "      <td>NaN</td>\n",
       "      <td>NaN</td>\n",
       "      <td>NaN</td>\n",
       "      <td>Manhattan</td>\n",
       "      <td>02/13/2023 01:40:15 PM</td>\n",
       "      <td>Rat Activity</td>\n",
       "      <td>02/14/2023 01:55:23 PM</td>\n",
       "      <td>NaN</td>\n",
       "    </tr>\n",
       "    <tr>\n",
       "      <th>2</th>\n",
       "      <td>BAIT</td>\n",
       "      <td>2799143</td>\n",
       "      <td>PC7647263</td>\n",
       "      <td>4</td>\n",
       "      <td>4.036190e+09</td>\n",
       "      <td>4</td>\n",
       "      <td>3619</td>\n",
       "      <td>1</td>\n",
       "      <td>NaN</td>\n",
       "      <td>NaN</td>\n",
       "      <td>11385.0</td>\n",
       "      <td>NaN</td>\n",
       "      <td>NaN</td>\n",
       "      <td>NaN</td>\n",
       "      <td>NaN</td>\n",
       "      <td>Queens</td>\n",
       "      <td>03/05/2021 10:40:58 AM</td>\n",
       "      <td>Bait applied</td>\n",
       "      <td>03/08/2021 10:47:56 AM</td>\n",
       "      <td>NaN</td>\n",
       "    </tr>\n",
       "    <tr>\n",
       "      <th>3</th>\n",
       "      <td>Initial</td>\n",
       "      <td>11631378</td>\n",
       "      <td>PC6155644</td>\n",
       "      <td>1</td>\n",
       "      <td>1.003760e+09</td>\n",
       "      <td>1</td>\n",
       "      <td>376</td>\n",
       "      <td>1</td>\n",
       "      <td>NaN</td>\n",
       "      <td>AVENUE C</td>\n",
       "      <td>10009.0</td>\n",
       "      <td>990053.0</td>\n",
       "      <td>202877.0</td>\n",
       "      <td>NaN</td>\n",
       "      <td>NaN</td>\n",
       "      <td>Manhattan</td>\n",
       "      <td>04/01/2010 04:11:45 PM</td>\n",
       "      <td>Failed for Other R</td>\n",
       "      <td>04/02/2010 09:08:37 AM</td>\n",
       "      <td>NaN</td>\n",
       "    </tr>\n",
       "    <tr>\n",
       "      <th>4</th>\n",
       "      <td>Initial</td>\n",
       "      <td>13511002</td>\n",
       "      <td>PC7978977</td>\n",
       "      <td>1</td>\n",
       "      <td>2.032370e+09</td>\n",
       "      <td>2</td>\n",
       "      <td>3237</td>\n",
       "      <td>12</td>\n",
       "      <td>BAILEY</td>\n",
       "      <td>AVENUE</td>\n",
       "      <td>0.0</td>\n",
       "      <td>NaN</td>\n",
       "      <td>NaN</td>\n",
       "      <td>NaN</td>\n",
       "      <td>NaN</td>\n",
       "      <td>Bronx</td>\n",
       "      <td>10/28/2022 03:00:57 PM</td>\n",
       "      <td>Passed</td>\n",
       "      <td>10/31/2022 11:06:49 AM</td>\n",
       "      <td>NaN</td>\n",
       "    </tr>\n",
       "  </tbody>\n",
       "</table>\n",
       "</div>"
      ],
      "text/plain": [
       "  INSPECTION_TYPE  JOB_TICKET_OR_WORK_ORDER_ID     JOB_ID  JOB_PROGRESS  \\\n",
       "0         Initial                     13407377  PC7882384             1   \n",
       "1         Initial                     13579860  PC8047096             1   \n",
       "2            BAIT                      2799143  PC7647263             4   \n",
       "3         Initial                     11631378  PC6155644             1   \n",
       "4         Initial                     13511002  PC7978977             1   \n",
       "\n",
       "            BBL  BORO_CODE  BLOCK  LOT HOUSE_NUMBER STREET_NAME  ZIP_CODE  \\\n",
       "0  3.019260e+09          3   1926   10          NaN         NaN   11205.0   \n",
       "1  1.004530e+09          1    453   34          NaN         NaN   10003.0   \n",
       "2  4.036190e+09          4   3619    1          NaN         NaN   11385.0   \n",
       "3  1.003760e+09          1    376    1          NaN    AVENUE C   10009.0   \n",
       "4  2.032370e+09          2   3237   12       BAILEY      AVENUE       0.0   \n",
       "\n",
       "    X_COORD   Y_COORD  LATITUDE  LONGITUDE    BOROUGH         INSPECTION_DATE  \\\n",
       "0       NaN       NaN       NaN        NaN   Brooklyn  06/09/2022 01:54:54 PM   \n",
       "1       NaN       NaN       NaN        NaN  Manhattan  02/13/2023 01:40:15 PM   \n",
       "2       NaN       NaN       NaN        NaN     Queens  03/05/2021 10:40:58 AM   \n",
       "3  990053.0  202877.0       NaN        NaN  Manhattan  04/01/2010 04:11:45 PM   \n",
       "4       NaN       NaN       NaN        NaN      Bronx  10/28/2022 03:00:57 PM   \n",
       "\n",
       "               RESULT           APPROVED_DATE LOCATION  \n",
       "0              Passed  06/13/2022 11:08:40 AM      NaN  \n",
       "1        Rat Activity  02/14/2023 01:55:23 PM      NaN  \n",
       "2        Bait applied  03/08/2021 10:47:56 AM      NaN  \n",
       "3  Failed for Other R  04/02/2010 09:08:37 AM      NaN  \n",
       "4              Passed  10/31/2022 11:06:49 AM      NaN  "
      ]
     },
     "execution_count": 64,
     "metadata": {},
     "output_type": "execute_result"
    }
   ],
   "source": [
    "#get a feel for the table structure and data\n",
    "df.head()"
   ]
  },
  {
   "cell_type": "code",
   "execution_count": 65,
   "metadata": {},
   "outputs": [
    {
     "data": {
      "text/plain": [
       "Index(['INSPECTION_TYPE', 'JOB_TICKET_OR_WORK_ORDER_ID', 'JOB_ID',\n",
       "       'JOB_PROGRESS', 'BBL', 'BORO_CODE', 'BLOCK', 'LOT', 'HOUSE_NUMBER',\n",
       "       'STREET_NAME', 'ZIP_CODE', 'X_COORD', 'Y_COORD', 'LATITUDE',\n",
       "       'LONGITUDE', 'BOROUGH', 'INSPECTION_DATE', 'RESULT', 'APPROVED_DATE',\n",
       "       'LOCATION'],\n",
       "      dtype='object')"
      ]
     },
     "execution_count": 65,
     "metadata": {},
     "output_type": "execute_result"
    }
   ],
   "source": [
    "#get a feel for the column structure\n",
    "df.columns"
   ]
  },
  {
   "cell_type": "code",
   "execution_count": 66,
   "metadata": {},
   "outputs": [
    {
     "data": {
      "text/plain": [
       "array(['Initial', 'BAIT', 'Compliance', 'STOPPAGE', 'CLEAN_UPS'],\n",
       "      dtype=object)"
      ]
     },
     "execution_count": 66,
     "metadata": {},
     "output_type": "execute_result"
    }
   ],
   "source": [
    "#get a feel for the unique data residing within columns\n",
    "df['INSPECTION_TYPE'].unique()"
   ]
  },
  {
   "cell_type": "code",
   "execution_count": 67,
   "metadata": {},
   "outputs": [
    {
     "data": {
      "text/plain": [
       "array(['Brooklyn', 'Manhattan', 'Queens', 'Bronx', 'Staten Island', nan],\n",
       "      dtype=object)"
      ]
     },
     "execution_count": 67,
     "metadata": {},
     "output_type": "execute_result"
    }
   ],
   "source": [
    "#get a feel for the unique data residing within columns\n",
    "df['BOROUGH'].unique()"
   ]
  },
  {
   "cell_type": "code",
   "execution_count": 68,
   "metadata": {},
   "outputs": [
    {
     "data": {
      "text/plain": [
       "array(['Passed', 'Rat Activity', 'Bait applied', 'Failed for Other R',\n",
       "       'Stoppage done', 'Monitoring visit', 'Cleanup done', nan],\n",
       "      dtype=object)"
      ]
     },
     "execution_count": 68,
     "metadata": {},
     "output_type": "execute_result"
    }
   ],
   "source": [
    "#get a feel for the unique data residing within columns\n",
    "df['RESULT'].unique()"
   ]
  },
  {
   "cell_type": "code",
   "execution_count": 69,
   "metadata": {},
   "outputs": [],
   "source": [
    "#create a new dataframe with only select columns \n",
    "df2 = df[['JOB_TICKET_OR_WORK_ORDER_ID', 'BOROUGH','INSPECTION_TYPE', 'RESULT','INSPECTION_DATE',\n",
    "          'LOCATION', 'ZIP_CODE', 'X_COORD', 'Y_COORD', 'LATITUDE', 'LONGITUDE']]"
   ]
  },
  {
   "cell_type": "code",
   "execution_count": 70,
   "metadata": {},
   "outputs": [
    {
     "data": {
      "text/plain": [
       "BOROUGH\n",
       "Bronx            701640\n",
       "Brooklyn         659359\n",
       "Manhattan        760069\n",
       "Queens           207698\n",
       "Staten Island     60558\n",
       "Name: RESULT, dtype: int64"
      ]
     },
     "execution_count": 70,
     "metadata": {},
     "output_type": "execute_result"
    }
   ],
   "source": [
    "#groupby to see which borough has had the most inspection activity within this dataset's timeframe\n",
    "result_by_borough = df2.groupby('BOROUGH')['RESULT'].count()\n",
    "result_by_borough.head(10)"
   ]
  },
  {
   "cell_type": "code",
   "execution_count": 71,
   "metadata": {},
   "outputs": [
    {
     "data": {
      "text/plain": [
       "INSPECTION_TYPE  RESULT            \n",
       "BAIT             Bait applied           324067\n",
       "                 Monitoring visit        48948\n",
       "CLEAN_UPS        Cleanup done             1828\n",
       "Compliance       Failed for Other R      58675\n",
       "                 Passed                 166293\n",
       "                 Rat Activity           119150\n",
       "Initial          Failed for Other R     159655\n",
       "                 Passed                1268606\n",
       "                 Rat Activity           238650\n",
       "STOPPAGE         Stoppage done            3722\n",
       "Name: RESULT, dtype: int64"
      ]
     },
     "execution_count": 71,
     "metadata": {},
     "output_type": "execute_result"
    }
   ],
   "source": [
    "#groupby to see the relationship between INSPECTION_TYPE & RESULT\n",
    "inspection_type_result = df2.groupby(['INSPECTION_TYPE','RESULT'])['RESULT'].count()\n",
    "inspection_type_result.head(10)"
   ]
  },
  {
   "cell_type": "code",
   "execution_count": 81,
   "metadata": {},
   "outputs": [
    {
     "name": "stderr",
     "output_type": "stream",
     "text": [
      "<ipython-input-81-7754f0dc9378>:4: SettingWithCopyWarning: \n",
      "A value is trying to be set on a copy of a slice from a DataFrame.\n",
      "Try using .loc[row_indexer,col_indexer] = value instead\n",
      "\n",
      "See the caveats in the documentation: https://pandas.pydata.org/pandas-docs/stable/user_guide/indexing.html#returning-a-view-versus-a-copy\n",
      "  df2['INSPECTION_DATE'] = pd.to_datetime(df2['INSPECTION_DATE']).dt.date\n"
     ]
    },
    {
     "data": {
      "text/html": [
       "<div>\n",
       "<style scoped>\n",
       "    .dataframe tbody tr th:only-of-type {\n",
       "        vertical-align: middle;\n",
       "    }\n",
       "\n",
       "    .dataframe tbody tr th {\n",
       "        vertical-align: top;\n",
       "    }\n",
       "\n",
       "    .dataframe thead th {\n",
       "        text-align: right;\n",
       "    }\n",
       "</style>\n",
       "<table border=\"1\" class=\"dataframe\">\n",
       "  <thead>\n",
       "    <tr style=\"text-align: right;\">\n",
       "      <th></th>\n",
       "      <th>JOB_TICKET_OR_WORK_ORDER_ID</th>\n",
       "      <th>BOROUGH</th>\n",
       "      <th>INSPECTION_TYPE</th>\n",
       "      <th>RESULT</th>\n",
       "      <th>INSPECTION_DATE</th>\n",
       "      <th>LOCATION</th>\n",
       "      <th>ZIP_CODE</th>\n",
       "      <th>X_COORD</th>\n",
       "      <th>Y_COORD</th>\n",
       "      <th>LATITUDE</th>\n",
       "      <th>LONGITUDE</th>\n",
       "    </tr>\n",
       "  </thead>\n",
       "  <tbody>\n",
       "    <tr>\n",
       "      <th>0</th>\n",
       "      <td>13407377</td>\n",
       "      <td>Brooklyn</td>\n",
       "      <td>Initial</td>\n",
       "      <td>Passed</td>\n",
       "      <td>2022-06-09</td>\n",
       "      <td>NaN</td>\n",
       "      <td>11205.0</td>\n",
       "      <td>NaN</td>\n",
       "      <td>NaN</td>\n",
       "      <td>NaN</td>\n",
       "      <td>NaN</td>\n",
       "    </tr>\n",
       "    <tr>\n",
       "      <th>1</th>\n",
       "      <td>13579860</td>\n",
       "      <td>Manhattan</td>\n",
       "      <td>Initial</td>\n",
       "      <td>Rat Activity</td>\n",
       "      <td>2023-02-13</td>\n",
       "      <td>NaN</td>\n",
       "      <td>10003.0</td>\n",
       "      <td>NaN</td>\n",
       "      <td>NaN</td>\n",
       "      <td>NaN</td>\n",
       "      <td>NaN</td>\n",
       "    </tr>\n",
       "    <tr>\n",
       "      <th>2</th>\n",
       "      <td>2799143</td>\n",
       "      <td>Queens</td>\n",
       "      <td>BAIT</td>\n",
       "      <td>Bait applied</td>\n",
       "      <td>2021-03-05</td>\n",
       "      <td>NaN</td>\n",
       "      <td>11385.0</td>\n",
       "      <td>NaN</td>\n",
       "      <td>NaN</td>\n",
       "      <td>NaN</td>\n",
       "      <td>NaN</td>\n",
       "    </tr>\n",
       "    <tr>\n",
       "      <th>3</th>\n",
       "      <td>11631378</td>\n",
       "      <td>Manhattan</td>\n",
       "      <td>Initial</td>\n",
       "      <td>Failed for Other R</td>\n",
       "      <td>2010-04-01</td>\n",
       "      <td>NaN</td>\n",
       "      <td>10009.0</td>\n",
       "      <td>990053.0</td>\n",
       "      <td>202877.0</td>\n",
       "      <td>NaN</td>\n",
       "      <td>NaN</td>\n",
       "    </tr>\n",
       "    <tr>\n",
       "      <th>4</th>\n",
       "      <td>13511002</td>\n",
       "      <td>Bronx</td>\n",
       "      <td>Initial</td>\n",
       "      <td>Passed</td>\n",
       "      <td>2022-10-28</td>\n",
       "      <td>NaN</td>\n",
       "      <td>0.0</td>\n",
       "      <td>NaN</td>\n",
       "      <td>NaN</td>\n",
       "      <td>NaN</td>\n",
       "      <td>NaN</td>\n",
       "    </tr>\n",
       "  </tbody>\n",
       "</table>\n",
       "</div>"
      ],
      "text/plain": [
       "   JOB_TICKET_OR_WORK_ORDER_ID    BOROUGH INSPECTION_TYPE              RESULT  \\\n",
       "0                     13407377   Brooklyn         Initial              Passed   \n",
       "1                     13579860  Manhattan         Initial        Rat Activity   \n",
       "2                      2799143     Queens            BAIT        Bait applied   \n",
       "3                     11631378  Manhattan         Initial  Failed for Other R   \n",
       "4                     13511002      Bronx         Initial              Passed   \n",
       "\n",
       "  INSPECTION_DATE LOCATION  ZIP_CODE   X_COORD   Y_COORD  LATITUDE  LONGITUDE  \n",
       "0      2022-06-09      NaN   11205.0       NaN       NaN       NaN        NaN  \n",
       "1      2023-02-13      NaN   10003.0       NaN       NaN       NaN        NaN  \n",
       "2      2021-03-05      NaN   11385.0       NaN       NaN       NaN        NaN  \n",
       "3      2010-04-01      NaN   10009.0  990053.0  202877.0       NaN        NaN  \n",
       "4      2022-10-28      NaN       0.0       NaN       NaN       NaN        NaN  "
      ]
     },
     "execution_count": 81,
     "metadata": {},
     "output_type": "execute_result"
    }
   ],
   "source": [
    "#converting timestamp object into date using to_datetime\n",
    "import datetime\n",
    "from datetime import datetime\n",
    "df2['INSPECTION_DATE'] = pd.to_datetime(df2['INSPECTION_DATE']).dt.date\n",
    "df2.head(5)"
   ]
  },
  {
   "cell_type": "code",
   "execution_count": 72,
   "metadata": {},
   "outputs": [],
   "source": [
    "#from the result of the data exploration thus far, based on the description and relationship of the data:\n",
    "    #RESULT: all values other than Rat Activity will be purged\n",
    "df3 = df2[(df2['RESULT']=='Rat Activity')] "
   ]
  },
  {
   "cell_type": "code",
   "execution_count": 73,
   "metadata": {},
   "outputs": [
    {
     "name": "stdout",
     "output_type": "stream",
     "text": [
      "BOROUGH\n",
      "Brooklyn         111656\n",
      "Bronx            110331\n",
      "Manhattan        109266\n",
      "Queens            23111\n",
      "Staten Island      3435\n",
      "Name: RESULT, dtype: int64\n"
     ]
    }
   ],
   "source": [
    "#groupby to see which borough has had the most activity within this dataset's timeframe in descending order\n",
    "result_by_borough2 = df3.groupby('BOROUGH')['RESULT'].count()\n",
    "print(result_by_borough2.sort_values(ascending=False))"
   ]
  },
  {
   "cell_type": "code",
   "execution_count": 74,
   "metadata": {},
   "outputs": [
    {
     "name": "stdout",
     "output_type": "stream",
     "text": [
      "AxesSubplot(0.125,0.125;0.775x0.755)\n"
     ]
    },
    {
     "data": {
      "image/png": "[encoded data removed]",
      "text/plain": [
       "<Figure size 432x288 with 1 Axes>"
      ]
     },
     "metadata": {
      "needs_background": "light"
     },
     "output_type": "display_data"
    }
   ],
   "source": [
    "#Python visual: # of INSPECTIONS WHERE RAT ACTIVITY IDENTIFIED by Boro\n",
    "print(result_by_borough2.sort_values(ascending=True).plot(kind='barh',xlabel='NYC BORO', title='# of INSPECTIONS WHERE RAT ACTIVITY IDENTIFIED'))"
   ]
  },
  {
   "cell_type": "code",
   "execution_count": 75,
   "metadata": {},
   "outputs": [
    {
     "data": {
      "text/plain": [
       "count         5.000000\n",
       "mean      71559.800000\n",
       "std       53667.828629\n",
       "min        3435.000000\n",
       "25%       23111.000000\n",
       "50%      109266.000000\n",
       "75%      110331.000000\n",
       "max      111656.000000\n",
       "Name: RESULT, dtype: float64"
      ]
     },
     "execution_count": 75,
     "metadata": {},
     "output_type": "execute_result"
    }
   ],
   "source": [
    "#Statistics on RAT ACTIVITY count\n",
    "result_by_borough2.describe()"
   ]
  },
  {
   "cell_type": "markdown",
   "metadata": {},
   "source": [
    "#export of df2 data that can be used in tableau where 'INSPECTION_DATE' timestamp object was transformed to a date\n",
    "df2.to_csv (r'C:\\Users\\PBerman\\Downloads\\RatsExport.csv', index=None)\n",
    "\n"
   ]
  },
  {
   "cell_type": "code",
   "execution_count": 77,
   "metadata": {},
   "outputs": [],
   "source": [
    "#the following analysis work was done in tableau and will provided with the final powerpoint."
   ]
  }
 ],
 "metadata": {
  "kernelspec": {
   "display_name": "Python 3",
   "language": "python",
   "name": "python3"
  },
  "language_info": {
   "codemirror_mode": {
    "name": "ipython",
    "version": 3
   },
   "file_extension": ".py",
   "mimetype": "text/x-python",
   "name": "python",
   "nbconvert_exporter": "python",
   "pygments_lexer": "ipython3",
   "version": "3.8.5"
  }
 },
 "nbformat": 4,
 "nbformat_minor": 4
}
